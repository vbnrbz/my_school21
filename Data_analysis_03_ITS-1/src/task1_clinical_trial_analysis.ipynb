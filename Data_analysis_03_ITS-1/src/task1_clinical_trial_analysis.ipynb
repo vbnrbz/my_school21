{
 "cells": [
  {
   "cell_type": "markdown",
   "id": "a7a7ef8c-3e16-4db8-856f-14089c458662",
   "metadata": {},
   "source": [
    "# Анализ медицинских данных"
   ]
  },
  {
   "cell_type": "markdown",
   "id": "216a365a-bb8b-43bf-820d-bd9069ea76df",
   "metadata": {},
   "source": [
    "## Задание 1. Подготовка окружения и знакомство с данными"
   ]
  },
  {
   "cell_type": "markdown",
   "id": "cd56af67-7af3-4f71-9e5c-2b8fcf7e580f",
   "metadata": {},
   "source": [
    "### Подгружаем DateFrame (дата-фрейм) - clinical_trial_data.csv"
   ]
  },
  {
   "cell_type": "code",
   "execution_count": 9,
   "id": "d9efdbd1-e4c9-45b2-82ac-be31c71e6520",
   "metadata": {},
   "outputs": [],
   "source": [
    "import pandas as pd\n",
    "\n",
    "df = pd.read_csv('clinical_trial_data.csv')"
   ]
  },
  {
   "cell_type": "markdown",
   "id": "56bb5720-4692-43f3-a529-166f3151664b",
   "metadata": {},
   "source": [
    "### Выводим первые 5 строк дата-фрейма"
   ]
  },
  {
   "cell_type": "code",
   "execution_count": 8,
   "id": "2c35a79a-049d-4e30-b88c-8b0973ee93d9",
   "metadata": {},
   "outputs": [
    {
     "data": {
      "text/html": [
       "<div>\n",
       "<style scoped>\n",
       "    .dataframe tbody tr th:only-of-type {\n",
       "        vertical-align: middle;\n",
       "    }\n",
       "\n",
       "    .dataframe tbody tr th {\n",
       "        vertical-align: top;\n",
       "    }\n",
       "\n",
       "    .dataframe thead th {\n",
       "        text-align: right;\n",
       "    }\n",
       "</style>\n",
       "<table border=\"1\" class=\"dataframe\">\n",
       "  <thead>\n",
       "    <tr style=\"text-align: right;\">\n",
       "      <th></th>\n",
       "      <th>PatientID</th>\n",
       "      <th>Group</th>\n",
       "      <th>Score</th>\n",
       "    </tr>\n",
       "  </thead>\n",
       "  <tbody>\n",
       "    <tr>\n",
       "      <th>0</th>\n",
       "      <td>1</td>\n",
       "      <td>Placebo</td>\n",
       "      <td>60.870471</td>\n",
       "    </tr>\n",
       "    <tr>\n",
       "      <th>1</th>\n",
       "      <td>2</td>\n",
       "      <td>Drug</td>\n",
       "      <td>63.997831</td>\n",
       "    </tr>\n",
       "    <tr>\n",
       "      <th>2</th>\n",
       "      <td>3</td>\n",
       "      <td>Placebo</td>\n",
       "      <td>60.917608</td>\n",
       "    </tr>\n",
       "    <tr>\n",
       "      <th>3</th>\n",
       "      <td>4</td>\n",
       "      <td>Placebo</td>\n",
       "      <td>40.124311</td>\n",
       "    </tr>\n",
       "    <tr>\n",
       "      <th>4</th>\n",
       "      <td>5</td>\n",
       "      <td>Placebo</td>\n",
       "      <td>57.803281</td>\n",
       "    </tr>\n",
       "  </tbody>\n",
       "</table>\n",
       "</div>"
      ],
      "text/plain": [
       "   PatientID    Group      Score\n",
       "0          1  Placebo  60.870471\n",
       "1          2     Drug  63.997831\n",
       "2          3  Placebo  60.917608\n",
       "3          4  Placebo  40.124311\n",
       "4          5  Placebo  57.803281"
      ]
     },
     "execution_count": 8,
     "metadata": {},
     "output_type": "execute_result"
    }
   ],
   "source": [
    "df.head()"
   ]
  },
  {
   "cell_type": "markdown",
   "id": "9c48d75a-07b9-47a1-90a9-dc1c37e44798",
   "metadata": {},
   "source": [
    "По умолчанию df.head() выводит первые 5 строк. Можно передать число для вывода необходимого количества строк: df.head(10) - выводит первые 10 строк."
   ]
  },
  {
   "cell_type": "markdown",
   "id": "7cb76a69-e479-47d8-9200-16e91a590ed8",
   "metadata": {},
   "source": [
    "### Получаем данные о структуре дата-фрейма"
   ]
  },
  {
   "cell_type": "code",
   "execution_count": 3,
   "id": "5007e3d6-6db0-49f1-b203-748913898281",
   "metadata": {},
   "outputs": [
    {
     "name": "stdout",
     "output_type": "stream",
     "text": [
      "<class 'pandas.core.frame.DataFrame'>\n",
      "RangeIndex: 200 entries, 0 to 199\n",
      "Data columns (total 3 columns):\n",
      " #   Column     Non-Null Count  Dtype  \n",
      "---  ------     --------------  -----  \n",
      " 0   PatientID  200 non-null    int64  \n",
      " 1   Group      200 non-null    object \n",
      " 2   Score      200 non-null    float64\n",
      "dtypes: float64(1), int64(1), object(1)\n",
      "memory usage: 4.8+ KB\n"
     ]
    }
   ],
   "source": [
    "df.info()"
   ]
  },
  {
   "cell_type": "markdown",
   "id": "76ea0ff5-a27f-4d88-9950-eac8ef88a067",
   "metadata": {},
   "source": [
    "<class 'pandas.core.frame.DataFrame'> - объект принадлежит классу DateFrame из pandas;\n",
    "RangeIndex: 200 entries, 0 to 199 - 200 записей, индексы от 0 до 199;\n",
    "Затем идет информация о колонках. int64 - аналог int из python, object - str, float64 - float. 200 non-null означает то, что заполнено все 200 значений без пропусков;\n",
    "memory usage указывает сколько памяти занимает дата-фрейм."
   ]
  },
  {
   "cell_type": "markdown",
   "id": "77614bf6-a499-48c9-a606-ad4a7c936b40",
   "metadata": {},
   "source": [
    "### Вывод статистической сводки по числовым столбцам"
   ]
  },
  {
   "cell_type": "code",
   "execution_count": 10,
   "id": "b28c2206-7d9b-42a6-9db2-b8a0189a13bb",
   "metadata": {},
   "outputs": [
    {
     "data": {
      "text/html": [
       "<div>\n",
       "<style scoped>\n",
       "    .dataframe tbody tr th:only-of-type {\n",
       "        vertical-align: middle;\n",
       "    }\n",
       "\n",
       "    .dataframe tbody tr th {\n",
       "        vertical-align: top;\n",
       "    }\n",
       "\n",
       "    .dataframe thead th {\n",
       "        text-align: right;\n",
       "    }\n",
       "</style>\n",
       "<table border=\"1\" class=\"dataframe\">\n",
       "  <thead>\n",
       "    <tr style=\"text-align: right;\">\n",
       "      <th></th>\n",
       "      <th>PatientID</th>\n",
       "      <th>Score</th>\n",
       "    </tr>\n",
       "  </thead>\n",
       "  <tbody>\n",
       "    <tr>\n",
       "      <th>count</th>\n",
       "      <td>200.000000</td>\n",
       "      <td>200.000000</td>\n",
       "    </tr>\n",
       "    <tr>\n",
       "      <th>mean</th>\n",
       "      <td>100.500000</td>\n",
       "      <td>65.267600</td>\n",
       "    </tr>\n",
       "    <tr>\n",
       "      <th>std</th>\n",
       "      <td>57.879185</td>\n",
       "      <td>11.088616</td>\n",
       "    </tr>\n",
       "    <tr>\n",
       "      <th>min</th>\n",
       "      <td>1.000000</td>\n",
       "      <td>39.748574</td>\n",
       "    </tr>\n",
       "    <tr>\n",
       "      <th>25%</th>\n",
       "      <td>50.750000</td>\n",
       "      <td>58.021821</td>\n",
       "    </tr>\n",
       "    <tr>\n",
       "      <th>50%</th>\n",
       "      <td>100.500000</td>\n",
       "      <td>65.135267</td>\n",
       "    </tr>\n",
       "    <tr>\n",
       "      <th>75%</th>\n",
       "      <td>150.250000</td>\n",
       "      <td>72.504527</td>\n",
       "    </tr>\n",
       "    <tr>\n",
       "      <th>max</th>\n",
       "      <td>200.000000</td>\n",
       "      <td>98.527315</td>\n",
       "    </tr>\n",
       "  </tbody>\n",
       "</table>\n",
       "</div>"
      ],
      "text/plain": [
       "        PatientID       Score\n",
       "count  200.000000  200.000000\n",
       "mean   100.500000   65.267600\n",
       "std     57.879185   11.088616\n",
       "min      1.000000   39.748574\n",
       "25%     50.750000   58.021821\n",
       "50%    100.500000   65.135267\n",
       "75%    150.250000   72.504527\n",
       "max    200.000000   98.527315"
      ]
     },
     "execution_count": 10,
     "metadata": {},
     "output_type": "execute_result"
    }
   ],
   "source": [
    "df.describe()"
   ]
  },
  {
   "cell_type": "markdown",
   "id": "c2298914-a8f3-4b9a-b2b1-76a97874e1e5",
   "metadata": {},
   "source": [
    "Выводится таблица с данными:\n",
    "count - количество ненулевых значений,\n",
    "mean - среднее значение,\n",
    "std - стандартное отклонение,\n",
    "min - минимальное значение,\n",
    "25%, 50%, 75% - перцентили, показывают, что 25 50 75 процентов значений лежит меньше или равно данных в таблице значений,\n",
    "max - максимальное значение."
   ]
  },
  {
   "cell_type": "markdown",
   "id": "e42f5567-4766-47bb-9d8b-527c2ce19f17",
   "metadata": {},
   "source": [
    "## Задание 2. Визуальный анализ"
   ]
  },
  {
   "cell_type": "markdown",
   "id": "4a5b61cd-c543-45bc-8dfe-173f31b2bdfe",
   "metadata": {},
   "source": [
    "### Разделяем данные на группу, принимающих Плацебо, и на группу, принимающих Препарат."
   ]
  },
  {
   "cell_type": "code",
   "execution_count": 38,
   "id": "8c915592-1ae4-4c76-a6ac-6349409a13ea",
   "metadata": {},
   "outputs": [
    {
     "name": "stdout",
     "output_type": "stream",
     "text": [
      "Группа Drug:\n",
      "     PatientID Group      Score\n",
      "1            2  Drug  63.997831\n",
      "5            6  Drug  76.621307\n",
      "9           10  Drug  50.479122\n",
      "14          15  Drug  67.918777\n",
      "16          17  Drug  64.106352\n",
      "..         ...   ...        ...\n",
      "186        187  Drug  63.002745\n",
      "189        190  Drug  67.790304\n",
      "195        196  Drug  46.980788\n",
      "196        197  Drug  54.848089\n",
      "197        198  Drug  83.668743\n",
      "\n",
      "[100 rows x 3 columns]\n",
      "\n",
      "Группа Placebo:\n",
      "     PatientID    Group      Score\n",
      "0            1  Placebo  60.870471\n",
      "2            3  Placebo  60.917608\n",
      "3            4  Placebo  40.124311\n",
      "4            5  Placebo  57.803281\n",
      "6            7  Placebo  74.778940\n",
      "..         ...      ...        ...\n",
      "192        193  Placebo  55.599555\n",
      "193        194  Placebo  61.307406\n",
      "194        195  Placebo  74.412733\n",
      "198        199  Placebo  50.184913\n",
      "199        200  Placebo  64.621035\n",
      "\n",
      "[100 rows x 3 columns]\n"
     ]
    }
   ],
   "source": [
    "placebo_group = df[df['Group'] == 'Placebo']\n",
    "drug_group = df[df['Group'] == 'Drug']\n",
    "\n",
    "print('Группа Drug:')\n",
    "print(drug_group)\n",
    "print('\\nГруппа Placebo:')\n",
    "print(placebo_group)"
   ]
  },
  {
   "cell_type": "markdown",
   "id": "8fc6b047-a04d-4857-b1fd-5b30f676bdce",
   "metadata": {},
   "source": [
    "Создаем 2 дата-фрейма: placebo_group и drug_group. В каждой из них выборка соответственно Плацебо и Препарат. Данные поделились ровно по 100."
   ]
  },
  {
   "cell_type": "markdown",
   "id": "3c1f6ac9-e045-4871-9624-7f666480c764",
   "metadata": {},
   "source": [
    "### Строим гистограмму для оценки самочувствия в каждой группе"
   ]
  },
  {
   "cell_type": "code",
   "execution_count": 43,
   "id": "5b961b2d-2a3a-4d7f-8710-9760247b66a2",
   "metadata": {},
   "outputs": [
    {
     "data": {
      "image/png": "[encoded data removed]",
      "text/plain": [
       "<Figure size 1000x500 with 2 Axes>"
      ]
     },
     "metadata": {},
     "output_type": "display_data"
    }
   ],
   "source": [
    "import matplotlib.pyplot as plt\n",
    "import seaborn as sns\n",
    "\n",
    "fig, axs = plt.subplots(1, 2, figsize=(10, 5)) \n",
    "\n",
    "sns.set(style='whitegrid')\n",
    "\n",
    "sns.histplot(placebo_group['Score'], bins=15, kde=True, ax=axs[0], color='red')\n",
    "axs[0].set_title('Плацебо-группа')\n",
    "axs[0].set_ylabel('Количество')\n",
    "axs[0].set_xlabel('Оценка самочувствия')\n",
    "\n",
    "sns.histplot(drug_group['Score'], bins=15, kde=True, ax=axs[1], color='blue')\n",
    "axs[1].set_title('Препарат-группа')\n",
    "axs[1].set_ylabel('Количество')\n",
    "axs[1].set_xlabel('Оценка самочувствия')\n",
    "\n",
    "plt.tight_layout()\n",
    "plt.show()"
   ]
  },
  {
   "cell_type": "markdown",
   "id": "73c4a781-8daf-4e59-847c-39e14250fe6e",
   "metadata": {},
   "source": [
    "sns.set(style='whitegrid') - ставим сеточный стиль, данные выглядят удобнее;\n",
    "fig, axs = plt.subplots(1, 2, figsize=(10, 5)) - создали фигуру из 1 строки и 2 столбцов, придали ей размеры 10 по ширине и 5 по длине в дюймах;\n",
    "sns.histplot() - построили график, передали дата-фрейм с лекарством, bins показывает количество столбиков, kde - средняя линяя значений;\n",
    "plt.tight_layout() - автоматически размещает элементы графика так, чтобы ничего друг друга не перекрывало и не закрывало."
   ]
  },
  {
   "cell_type": "markdown",
   "id": "c1601e50-5a36-4645-8121-12bc597db74a",
   "metadata": {},
   "source": [
    "### Строим boxplot (ящик с усиками) для оценки самочувствия в каждой группе"
   ]
  },
  {
   "cell_type": "code",
   "execution_count": 44,
   "id": "032f99ce-7dea-41aa-8739-b2565ffae194",
   "metadata": {},
   "outputs": [
    {
     "data": {
      "image/png": "[encoded data removed]",
      "text/plain": [
       "<Figure size 640x480 with 1 Axes>"
      ]
     },
     "metadata": {},
     "output_type": "display_data"
    }
   ],
   "source": [
    "ax = sns.boxplot(x='Group', y='Score', hue='Group', data=df)\n",
    "\n",
    "ax.set_xticks([0, 1])\n",
    "ax.set_xticklabels(['Плацебо', 'Препарат'])\n",
    "ax.set_xlabel('Группа')\n",
    "ax.set_ylabel('Оценка самочувствия')\n",
    "ax.set_title('Boxplot для Плацебо-группы и Препарат-группы')\n",
    "\n",
    "plt.show()"
   ]
  },
  {
   "cell_type": "markdown",
   "id": "892fe638-acd7-4281-a20e-1d44b8844ac5",
   "metadata": {},
   "source": [
    "sns.boxplot() - строим ящик с усиками, по x - группа, по y - оценка самочувствия, hue - объединяет в группу данные.\n",
    "\n",
    "Согласно гистограмме при приеме Препарата средняя оценка самочувствия >= 70, на Плацебо значение средне держится в пределах 60. Boxplot-график это подтверждает. Препарат влияет лучше, чем Плацебо."
   ]
  },
  {
   "cell_type": "markdown",
   "id": "6eb4ba33-e97a-43e2-90d6-79e253094206",
   "metadata": {},
   "source": [
    "## Задание 3. Математическая статистика и проверка гипотезы"
   ]
  },
  {
   "cell_type": "markdown",
   "id": "11f9a901-5c3a-46e1-bb85-d97a56130766",
   "metadata": {},
   "source": [
    "### Тест Шапиро — Уилка"
   ]
  },
  {
   "cell_type": "markdown",
   "id": "033ee9f2-10aa-4081-ad4a-c1f24f4468c2",
   "metadata": {},
   "source": [
    "Это статистический тест, используемый для проверки гипотезы о нормальности распределения данных. Он позволяет оценить, насколько данные отклоняются от нормального распределения, и является одним из самых мощных тестов для этой цели. \n",
    "\n",
    "Тест выдает p-значение. Интерпретация следующая:\n",
    "Если p-значение больше уровня значимости (обычно 0.05), то нельзя отвергнуть нулевую гипотезу, и можно считать, что данные нормально распределены.\n",
    "Если p-значение меньше уровня значимости (обычно 0.05), то нужно отвергнуть нулевую гипотезу, и это свидетельствует о том, что данные не следуют нормальному распределению."
   ]
  },
  {
   "cell_type": "code",
   "execution_count": 62,
   "id": "2a93fe90-4df0-4b91-af19-89a2fa80521c",
   "metadata": {},
   "outputs": [
    {
     "name": "stdout",
     "output_type": "stream",
     "text": [
      "Плацебо-группа:\n",
      "statistic = 0.981, p_value = 0.152.\n",
      "Данные имеют нормальное распределение.\n",
      "\n",
      "Препарат-группа:\n",
      "statistic = 0.989, p_value = 0.618.\n",
      "Данные имеют нормальное распределение.\n"
     ]
    }
   ],
   "source": [
    "from scipy.stats import shapiro\n",
    "\n",
    "drug_group_score = df[df['Group'] == 'Drug']['Score']\n",
    "placebo_group_score = df[df['Group'] == 'Placebo']['Score']\n",
    "\n",
    "print('Плацебо-группа:')\n",
    "statistic, p_value = shapiro(placebo_group_score)\n",
    "\n",
    "print(f'{statistic = :.3f}, {p_value = :.3f}.')\n",
    "if p_value > 0.05:\n",
    "    print('Данные имеют нормальное распределение.')\n",
    "else:\n",
    "    print('Данные не имеют нормального распределения.')\n",
    "\n",
    "print('\\nПрепарат-группа:')\n",
    "statistic, p_value = shapiro(drug_group_score)\n",
    "\n",
    "print(f'{statistic = :.3f}, {p_value = :.3f}.')\n",
    "if p_value > 0.05:\n",
    "    print('Данные имеют нормальное распределение.')\n",
    "else:\n",
    "    print('Данные не имеют нормального распределения.')"
   ]
  },
  {
   "cell_type": "markdown",
   "id": "66b50fd1-7ebe-4067-b876-ddf705016245",
   "metadata": {},
   "source": [
    "statistic - это статистика W-теста Шапиро-Уилка, p_value - p-значение теста. Данные имеют нормальное распределение."
   ]
  },
  {
   "cell_type": "markdown",
   "id": "d8a64770-8244-434f-bfe4-aa97486bab5f",
   "metadata": {},
   "source": [
    "### Тест Левена"
   ]
  },
  {
   "cell_type": "markdown",
   "id": "c4a41b9d-9254-4d16-8d65-fc5f7ea1cd71",
   "metadata": {},
   "source": [
    "Это статистический тест, используемый для проверки гипотезы о равенстве дисперсий в разных группах. То есть он проверяет, есть ли статистически значимые различия в вариативности (или «разбросе») данных между группами. Тест Левена оценивает среднюю абсолютную отклоненность от медианы (или среднего) в каждой группе, а затем использует эти отклонения для проверки гипотезы о равенстве дисперсий. Это делает тест более устойчивым к отклонениям от нормальности, чем другие тесты на равенство дисперсий, такие как тест Бартлетта, который чувствителен к нормальности данных."
   ]
  },
  {
   "cell_type": "code",
   "execution_count": 58,
   "id": "7c181cb3-db6e-44a9-9a16-8a2ef5d18d2e",
   "metadata": {},
   "outputs": [
    {
     "name": "stdout",
     "output_type": "stream",
     "text": [
      "statistic = 0.380, p_value = 0.538.\n",
      "Дисперсии данных в группах примерно равны\n"
     ]
    }
   ],
   "source": [
    "from scipy.stats import levene\n",
    "\n",
    "statistic, p_value = levene(placebo_group_score, drug_group_score)\n",
    "print(f'{statistic = :.3f}, {p_value = :.3f}.')\n",
    "if p_value > 0.05:\n",
    "    print('Дисперсии данных в группах примерно равны')\n",
    "else:\n",
    "    print('Дисперсии данных в группах различаются')\n"
   ]
  },
  {
   "cell_type": "markdown",
   "id": "332fde1b-4db8-4af3-97e0-2ab359d58efc",
   "metadata": {},
   "source": [
    "Дисперсии данных в группах примерно равны, следовательно, можно использовать t-test для независимых выборок."
   ]
  },
  {
   "cell_type": "markdown",
   "id": "056774ab-2c91-488c-8554-90c938827bb7",
   "metadata": {},
   "source": [
    "### t-тест для независимых выборок (t-критерий Стьюдента)"
   ]
  },
  {
   "cell_type": "markdown",
   "id": "ac4c4ac5-959f-4e16-b50d-26481da2c073",
   "metadata": {},
   "source": [
    "t-тест для независимых выборок (или t-критерий Стьюдента для независимых выборок) используется для проверки гипотезы о том, что средние значения двух независимых групп одинаковы. \n",
    "Если p-значение (из таблицы t-распределения) меньше уровня значимости α (например, 0.05), то мы отвергаем нулевую гипотезу и делаем вывод, что средние значения двух групп различаются.\n",
    "Если p-значение больше α, то мы не отвергаем нулевую гипотезу и приходим к выводу, что средние значения групп одинаковы."
   ]
  },
  {
   "cell_type": "code",
   "execution_count": 61,
   "id": "d6c10bc6-44f0-4324-aadb-d7b843027d8e",
   "metadata": {},
   "outputs": [
    {
     "name": "stdout",
     "output_type": "stream",
     "text": [
      "statistic = 6.403, p_value = 0.000000001.\n",
      "Средние значения в группах значимо отличаются\n"
     ]
    }
   ],
   "source": [
    "from scipy.stats import ttest_ind\n",
    "\n",
    "statistic, p_value = ttest_ind(drug_group_score, placebo_group_score)\n",
    "print(f'{statistic = :.3f}, {p_value = :.9f}.')\n",
    "if p_value <= 0.05:\n",
    "    print('Средние значения в группах значимо отличаются')\n",
    "else:\n",
    "    print('Средние значения в группах не отличаются')\n"
   ]
  },
  {
   "cell_type": "markdown",
   "id": "67f45b33-d6a0-4316-a4a9-4c6daf7e62eb",
   "metadata": {},
   "source": [
    "Средние значения в группах значимо отличаются. Значит, прием Препарата оказывает эффективное воздействие, нежели Плацебо."
   ]
  },
  {
   "cell_type": "markdown",
   "id": "1af95c10-37ef-414d-9135-461087186fc8",
   "metadata": {},
   "source": [
    "### Коэффициент Коэна"
   ]
  },
  {
   "cell_type": "markdown",
   "id": "87d7f5ff-6bb8-4cc9-979d-80e147c90c2e",
   "metadata": {},
   "source": [
    "Это мера эффекта, которая используется для оценки размера различий между двумя группами в терминах стандартных отклонений. Он показывает, насколько значительно одно среднее отличается от другого относительно разброса (дисперсии) в данных. Это полезная метрика для понимания величины эффекта, когда вам нужно не просто знать, является ли различие статистически значимым, но и насколько оно важно с практической точки зрения."
   ]
  },
  {
   "cell_type": "code",
   "execution_count": 66,
   "id": "e80f23f4-517b-41e2-81f9-046531e789a2",
   "metadata": {},
   "outputs": [
    {
     "name": "stdout",
     "output_type": "stream",
     "text": [
      "Коэффициент Коэна d: -0.91\n",
      "\n",
      "Результат:\n",
      "Очень большой эффект (|d| ≥ 0.8).\n"
     ]
    }
   ],
   "source": [
    "import numpy as np\n",
    "\n",
    "def koen_d(group1, group2):\n",
    "    mean1, mean2 = np.mean(group1), np.mean(group2)\n",
    "    sd1, sd2 = np.std(group1, ddof=1), np.std(group2, ddof=1)\n",
    "    n1, n2 = len(group1), len(group2)\n",
    "    sp = np.sqrt(((n1 - 1) * sd1**2 + (n2 - 1) * sd2**2) / (n1 + n2 - 2))\n",
    "    \n",
    "    return (mean1 - mean2) / sp\n",
    "\n",
    "d = koen_d(placebo_group_score, drug_group_score)\n",
    "print(\"Коэффициент Коэна d:\", round(d, 2))\n",
    "\n",
    "d = abs(d)\n",
    "print('\\nРезультат:')\n",
    "if d < 0.2:\n",
    "    print('Незначительный эффект (|d| < 0.2).')\n",
    "elif d < 0.5:\n",
    "    print('Малый эффект (0.2 ≤ |d| < 0.5).')\n",
    "elif d < 0.8:\n",
    "    print('Значительный эффект (0.5 ≤ |d| < 0.8).')\n",
    "else:\n",
    "    print('Очень большой эффект (|d| ≥ 0.8).')"
   ]
  },
  {
   "cell_type": "markdown",
   "id": "76d61828-33ec-4d7b-8733-c9b42617f506",
   "metadata": {},
   "source": [
    "Коэффициент Коэна d показал очень большой размер эффекта. Следовательно, существует значительная разница между двумя группами. Итог, Препарат эффективен."
   ]
  }
 ],
 "metadata": {
  "kernelspec": {
   "display_name": "Python 3 (ipykernel)",
   "language": "python",
   "name": "python3"
  },
  "language_info": {
   "codemirror_mode": {
    "name": "ipython",
    "version": 3
   },
   "file_extension": ".py",
   "mimetype": "text/x-python",
   "name": "python",
   "nbconvert_exporter": "python",
   "pygments_lexer": "ipython3",
   "version": "3.12.7"
  }
 },
 "nbformat": 4,
 "nbformat_minor": 5
}
